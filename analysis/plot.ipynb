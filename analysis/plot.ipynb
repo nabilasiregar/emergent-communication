{
 "cells": [
  {
   "cell_type": "code",
   "execution_count": null,
   "metadata": {},
   "outputs": [],
   "source": [
    "import json\n",
    "import matplotlib.pyplot as plt"
   ]
  },
  {
   "cell_type": "code",
   "execution_count": null,
   "metadata": {},
   "outputs": [],
   "source": [
    "with open(\"../logs/experiment_bee_2_nodes.json\", \"r\") as f:\n",
    "    data = json.load(f)\n",
    "\n",
    "train_epochs = [d[\"epoch\"] for d in data if d[\"mode\"] == \"train\"]\n",
    "train_acc = [d[\"acc\"] for d in data if d[\"mode\"] == \"train\"]\n",
    "\n",
    "test_epochs = [d[\"epoch\"] for d in data if d[\"mode\"] == \"test\"]\n",
    "test_acc = [d[\"acc\"] for d in data if d[\"mode\"] == \"test\"]\n",
    "\n",
    "plt.figure(figsize=(10, 5))\n",
    "plt.plot(train_epochs, train_acc, label=\"Train Accuracy\", marker='o')\n",
    "plt.plot(test_epochs, test_acc, label=\"Test Accuracy\", marker='x')\n",
    "plt.xlabel(\"Epoch\")\n",
    "plt.ylabel(\"Accuracy\")\n",
    "plt.title(\"[Bee] Accuracy over epochs when graph only has 2 nodes\")\n",
    "plt.legend()\n",
    "plt.tight_layout()\n",
    "plt.show()"
   ]
  },
  {
   "cell_type": "code",
   "execution_count": null,
   "metadata": {},
   "outputs": [],
   "source": [
    "with open(\"../logs/experiment_human_2_nodes.json\", \"r\") as f:\n",
    "    data = json.load(f)\n",
    "\n",
    "train_epochs = [d[\"epoch\"] for d in data if d[\"mode\"] == \"train\"]\n",
    "train_acc = [d[\"acc\"] for d in data if d[\"mode\"] == \"train\"]\n",
    "\n",
    "test_epochs = [d[\"epoch\"] for d in data if d[\"mode\"] == \"test\"]\n",
    "test_acc = [d[\"acc\"] for d in data if d[\"mode\"] == \"test\"]\n",
    "\n",
    "plt.figure(figsize=(10, 5))\n",
    "plt.plot(train_epochs, train_acc, label=\"Train Accuracy\", marker='o')\n",
    "plt.plot(test_epochs, test_acc, label=\"Test Accuracy\", marker='x')\n",
    "plt.xlabel(\"Epoch\")\n",
    "plt.ylabel(\"Accuracy\")\n",
    "plt.title(\"[Human] Accuracy over epochs when graph only has 2 nodes\")\n",
    "plt.legend()\n",
    "plt.tight_layout()\n",
    "plt.show()"
   ]
  }
 ],
 "metadata": {
  "kernelspec": {
   "display_name": "egg311",
   "language": "python",
   "name": "python3"
  },
  "language_info": {
   "codemirror_mode": {
    "name": "ipython",
    "version": 3
   },
   "file_extension": ".py",
   "mimetype": "text/x-python",
   "name": "python",
   "nbconvert_exporter": "python",
   "pygments_lexer": "ipython3",
   "version": "3.11.11"
  }
 },
 "nbformat": 4,
 "nbformat_minor": 2
}
