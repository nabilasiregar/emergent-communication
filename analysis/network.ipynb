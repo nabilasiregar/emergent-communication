{
 "cells": [
  {
   "cell_type": "markdown",
   "id": "fd4cdc2a",
   "metadata": {},
   "source": [
    "# Graph Dataset Analysis\n"
   ]
  },
  {
   "cell_type": "code",
   "execution_count": 2,
   "id": "b5c58f5d",
   "metadata": {},
   "outputs": [],
   "source": [
    "import torch\n",
    "import pandas as pd\n",
    "import networkx as nx\n",
    "import matplotlib.pyplot as plt\n",
    "from torch_geometric.utils import to_networkx  "
   ]
  },
  {
   "cell_type": "code",
   "execution_count": 6,
   "id": "40566f71",
   "metadata": {},
   "outputs": [],
   "source": [
    "dataset_path = \"../data/train_data_20.pt\"\n",
    "dataset = torch.load(dataset_path)"
   ]
  },
  {
   "cell_type": "code",
   "execution_count": 16,
   "id": "8c611fc1",
   "metadata": {},
   "outputs": [],
   "source": [
    "def add_project_root(relative_to=\"..\"):\n",
    "    import os, sys\n",
    "    project_root = os.path.abspath(os.path.join(os.getcwd(), relative_to))\n",
    "    if project_root not in sys.path:\n",
    "        sys.path.insert(0, project_root)"
   ]
  },
  {
   "cell_type": "markdown",
   "id": "7a4766c7",
   "metadata": {},
   "source": [
    "## Compute stats per graph"
   ]
  },
  {
   "cell_type": "code",
   "execution_count": 17,
   "id": "6cbd0d5f",
   "metadata": {},
   "outputs": [],
   "source": [
    "add_project_root(relative_to=\"..\")\n",
    "from graph.data_builder import DataConverter"
   ]
  },
  {
   "cell_type": "code",
   "execution_count": null,
   "id": "e719a38b",
   "metadata": {},
   "outputs": [
    {
     "name": "stdout",
     "output_type": "stream",
     "text": [
      "        d_fn_hops  num_distractors_on_path  d_fn_distance\n",
      "count  400.000000               400.000000     400.000000\n",
      "mean     2.155000                 1.155000      85.569572\n",
      "std      0.382545                 0.382545      29.859218\n",
      "min      2.000000                 1.000000      21.189679\n",
      "25%      2.000000                 1.000000      63.511137\n",
      "50%      2.000000                 1.000000      83.364459\n",
      "75%      2.000000                 1.000000     102.874583\n",
      "max      4.000000                 3.000000     200.999270\n"
     ]
    },
    {
     "data": {
      "text/html": [
       "<div>\n",
       "<style scoped>\n",
       "    .dataframe tbody tr th:only-of-type {\n",
       "        vertical-align: middle;\n",
       "    }\n",
       "\n",
       "    .dataframe tbody tr th {\n",
       "        vertical-align: top;\n",
       "    }\n",
       "\n",
       "    .dataframe thead th {\n",
       "        text-align: right;\n",
       "    }\n",
       "</style>\n",
       "<table border=\"1\" class=\"dataframe\">\n",
       "  <thead>\n",
       "    <tr style=\"text-align: right;\">\n",
       "      <th></th>\n",
       "      <th>sample</th>\n",
       "      <th>d_fn_hops</th>\n",
       "      <th>d_fn_distance</th>\n",
       "      <th>num_distractors_on_path</th>\n",
       "      <th>num_nodes</th>\n",
       "      <th>num_edges</th>\n",
       "      <th>density</th>\n",
       "      <th>diameter</th>\n",
       "    </tr>\n",
       "  </thead>\n",
       "  <tbody>\n",
       "    <tr>\n",
       "      <th>0</th>\n",
       "      <td>0</td>\n",
       "      <td>2</td>\n",
       "      <td>41.345777</td>\n",
       "      <td>1</td>\n",
       "      <td>20</td>\n",
       "      <td>108</td>\n",
       "      <td>0.284211</td>\n",
       "      <td>4</td>\n",
       "    </tr>\n",
       "    <tr>\n",
       "      <th>1</th>\n",
       "      <td>1</td>\n",
       "      <td>2</td>\n",
       "      <td>109.015150</td>\n",
       "      <td>1</td>\n",
       "      <td>20</td>\n",
       "      <td>108</td>\n",
       "      <td>0.284211</td>\n",
       "      <td>4</td>\n",
       "    </tr>\n",
       "    <tr>\n",
       "      <th>2</th>\n",
       "      <td>2</td>\n",
       "      <td>2</td>\n",
       "      <td>89.183262</td>\n",
       "      <td>1</td>\n",
       "      <td>20</td>\n",
       "      <td>112</td>\n",
       "      <td>0.294737</td>\n",
       "      <td>4</td>\n",
       "    </tr>\n",
       "    <tr>\n",
       "      <th>3</th>\n",
       "      <td>3</td>\n",
       "      <td>2</td>\n",
       "      <td>52.098239</td>\n",
       "      <td>1</td>\n",
       "      <td>20</td>\n",
       "      <td>112</td>\n",
       "      <td>0.294737</td>\n",
       "      <td>3</td>\n",
       "    </tr>\n",
       "    <tr>\n",
       "      <th>4</th>\n",
       "      <td>4</td>\n",
       "      <td>2</td>\n",
       "      <td>96.269737</td>\n",
       "      <td>1</td>\n",
       "      <td>20</td>\n",
       "      <td>106</td>\n",
       "      <td>0.278947</td>\n",
       "      <td>4</td>\n",
       "    </tr>\n",
       "  </tbody>\n",
       "</table>\n",
       "</div>"
      ],
      "text/plain": [
       "   sample  d_fn_hops  d_fn_distance  num_distractors_on_path  num_nodes  \\\n",
       "0       0          2      41.345777                        1         20   \n",
       "1       1          2     109.015150                        1         20   \n",
       "2       2          2      89.183262                        1         20   \n",
       "3       3          2      52.098239                        1         20   \n",
       "4       4          2      96.269737                        1         20   \n",
       "\n",
       "   num_edges   density  diameter  \n",
       "0        108  0.284211         4  \n",
       "1        108  0.284211         4  \n",
       "2        112  0.294737         4  \n",
       "3        112  0.294737         3  \n",
       "4        106  0.278947         4  "
      ]
     },
     "execution_count": 21,
     "metadata": {},
     "output_type": "execute_result"
    }
   ],
   "source": [
    "node_types = {v: k for k, v in DataConverter.NODE_TYPES.items()}\n",
    "directions       = {v: k for k, v in DataConverter.DIRECTIONS.items()}\n",
    "\n",
    "records = []\n",
    "\n",
    "for idx, (data, nest_id, food_id) in enumerate(dataset):\n",
    "    x_np       = data.x.argmax(dim=1).numpy()\n",
    "    edge_idx   = data.edge_index.numpy()\n",
    "    edge_attr  = data.edge_attr.numpy()\n",
    "\n",
    "    G = nx.DiGraph()\n",
    "    \n",
    "    # add nodes with the correct node_type\n",
    "    for node_id, t_idx in enumerate(x_np):\n",
    "        G.add_node(node_id, node_type=node_types[int(t_idx)])\n",
    "    \n",
    "    # add edges with distance & direction attrs\n",
    "    for e in range(edge_idx.shape[1]):\n",
    "        u, v = int(edge_idx[0, e]), int(edge_idx[1, e])\n",
    "        dist, dir_idx = float(edge_attr[e, 0]), int(edge_attr[e, 1])\n",
    "        G.add_edge(u, v,\n",
    "                   distance=dist,\n",
    "                   direction=directions[dir_idx])\n",
    "    \n",
    "    # get shortest‐path in terms of num of hops (edges)\n",
    "    path_hops = nx.shortest_path(G, source=food_id, target=nest_id)\n",
    "    d_fn_hops = len(path_hops) - 1\n",
    "    # the sum of Euclidean distances along the shortest-distance path\n",
    "    d_fn_distance = nx.shortest_path_length(\n",
    "        G, source=food_id, target=nest_id, weight='distance'\n",
    "    )\n",
    "\n",
    "    # count distractors on the path between nest and food node\n",
    "    num_distractors_on_path = sum(\n",
    "        1 for v in path_hops[1:-1]\n",
    "        if G.nodes[v]['node_type'] == 'distractor'\n",
    "    )\n",
    "\n",
    "    records.append({\n",
    "        'sample':      idx,\n",
    "        'd_fn_hops':   d_fn_hops,\n",
    "        'd_fn_distance':   d_fn_distance,\n",
    "        'num_distractors_on_path': num_distractors_on_path,\n",
    "        'num_nodes':   G.number_of_nodes(),\n",
    "        'num_edges':   G.number_of_edges(),\n",
    "        'density':     nx.density(G.to_undirected()),\n",
    "        'diameter':    nx.diameter(G.to_undirected()),\n",
    "    })\n",
    "\n",
    "df = pd.DataFrame(records)\n",
    "print(df[['d_fn_hops','num_distractors_on_path','d_fn_distance']].describe())\n",
    "df.head()"
   ]
  },
  {
   "cell_type": "code",
   "execution_count": null,
   "id": "950b364a",
   "metadata": {},
   "outputs": [
    {
     "data": {
      "image/png": "[encoded data removed]",
      "text/plain": [
       "<Figure size 600x500 with 1 Axes>"
      ]
     },
     "metadata": {},
     "output_type": "display_data"
    }
   ],
   "source": [
    "['d_fn_hops', 'diameter']\n",
    "plt.figure(figsize=(6, 5))\n",
    "plt.scatter(df['diameter'], df['d_fn_hops'], alpha=0.6)\n",
    "# diameter is to know how far apart can two nodes be in the graph\n",
    "plt.xlabel('Graph Diameter')\n",
    "plt.ylabel('Food–Nest Distance (hops)')\n",
    "plt.title('Num of hops to reach Food from Nest vs. Graph Diameter')\n",
    "plt.show()\n",
    "# each dot is a graph"
   ]
  },
  {
   "cell_type": "code",
   "execution_count": 28,
   "id": "4fbb1ee9",
   "metadata": {},
   "outputs": [
    {
     "name": "stdout",
     "output_type": "stream",
     "text": [
      "count    400.000000\n",
      "mean       0.662583\n",
      "std        0.137594\n",
      "min        0.400000\n",
      "25%        0.666667\n",
      "50%        0.666667\n",
      "75%        0.666667\n",
      "max        1.000000\n",
      "Name: d_ratio, dtype: float64\n"
     ]
    },
    {
     "data": {
      "image/png": "[encoded data removed]",
      "text/plain": [
       "<Figure size 600x400 with 1 Axes>"
      ]
     },
     "metadata": {},
     "output_type": "display_data"
    }
   ],
   "source": [
    "df['d_ratio'] = df['d_fn_hops'] / df['diameter']\n",
    "\n",
    "print(df['d_ratio'].describe())\n",
    "\n",
    "plt.figure(figsize=(6,4))\n",
    "plt.hist(df['d_ratio'], bins=20, color='skyblue')\n",
    "plt.xlabel('Food–Nest / Diameter Ratio')\n",
    "plt.ylabel('Number of Graphs')\n",
    "plt.title('Relative Food–Nest Distance')\n",
    "plt.show()\n"
   ]
  }
 ],
 "metadata": {
  "kernelspec": {
   "display_name": "egg311",
   "language": "python",
   "name": "python3"
  },
  "language_info": {
   "codemirror_mode": {
    "name": "ipython",
    "version": 3
   },
   "file_extension": ".py",
   "mimetype": "text/x-python",
   "name": "python",
   "nbconvert_exporter": "python",
   "pygments_lexer": "ipython3",
   "version": "3.11.11"
  }
 },
 "nbformat": 4,
 "nbformat_minor": 5
}
